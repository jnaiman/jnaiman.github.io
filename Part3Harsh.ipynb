{
 "cells": [
  {
   "cell_type": "code",
   "execution_count": 1,
   "metadata": {},
   "outputs": [],
   "source": [
    "#!pip install wordcloud\n",
    "\n",
    "import numpy as np\n",
    "import pandas as pd\n",
    "import matplotlib.pyplot as plt\n",
    "from PIL import Image\n",
    "from wordcloud import WordCloud, STOPWORDS, ImageColorGenerator\n",
    "import ipywidgets\n",
    "import bqplot"
   ]
  },
  {
   "cell_type": "code",
   "execution_count": 2,
   "metadata": {},
   "outputs": [],
   "source": [
    "data = pd.read_csv(\"order_products__prior.csv\")"
   ]
  },
  {
   "cell_type": "code",
   "execution_count": 3,
   "metadata": {},
   "outputs": [],
   "source": [
    "dept = data[\"Department Name\"].unique()"
   ]
  },
  {
   "cell_type": "code",
   "execution_count": 4,
   "metadata": {},
   "outputs": [],
   "source": [
    "# dept\n",
    "# aisles = []\n",
    "# dept"
   ]
  },
  {
   "cell_type": "code",
   "execution_count": 5,
   "metadata": {},
   "outputs": [],
   "source": [
    "# @ipywidgets.interact(Department = dept)\n",
    "# def makewordcloud(Department):\n",
    "#     aisles = []\n",
    "#     for i in range(len(data)):\n",
    "#         if(str(Department) == str(data[\"Department Name\"][i])):\n",
    "#             aisles.append(data[\"Aisle_Name\"][i])\n",
    "#     new_aisles=(\" \").join(aisles)\n",
    "\n",
    "#     #masker = np.array(Image.open( \"instacart.png\"))\n",
    "\n",
    "#     wc = WordCloud(background_color = \"white\").generate(new_aisles)\n",
    "#     #plt.margins(x=0, y=0)\n",
    "\n",
    "#     # Display the generated image:\n",
    "#     #plt.imshow(wc, interpolation='bilinear')\n",
    "#     plt.axis(\"off\")\n",
    "#     plt.figure( figsize=(10,8) )\n",
    "#     plt.imshow(wc)\n",
    "#     plt.show()\n",
    "    \n"
   ]
  },
  {
   "cell_type": "code",
   "execution_count": 6,
   "metadata": {},
   "outputs": [],
   "source": [
    "data_order = pd.read_csv(\"orders.csv\")\n"
   ]
  },
  {
   "cell_type": "code",
   "execution_count": 7,
   "metadata": {},
   "outputs": [],
   "source": [
    "dayname = data_order[\"Dayname\"].unique()\n"
   ]
  },
  {
   "cell_type": "code",
   "execution_count": 8,
   "metadata": {},
   "outputs": [
    {
     "data": {
      "application/vnd.jupyter.widget-view+json": {
       "model_id": "764dea034b654414ac6b69a775b44837",
       "version_major": 2,
       "version_minor": 0
      },
      "text/plain": [
       "aW50ZXJhY3RpdmUoY2hpbGRyZW49KERyb3Bkb3duKGRlc2NyaXB0aW9uPXUnRGF5Jywgb3B0aW9ucz0oJ1R1ZXNkYXknLCAnV2VkbmVzZGF5JywgJ1RodXJzZGF5JywgJ01vbmRheScsICdGcmnigKY=\n"
      ]
     },
     "metadata": {},
     "output_type": "display_data"
    }
   ],
   "source": [
    "#dayname\n",
    "#hour = []\n",
    "#orderid = []\n",
    "\n",
    "@ipywidgets.interact(Day = dayname)\n",
    "def makelineplot(Day):\n",
    "    hour = []\n",
    "    req = []\n",
    "    for i in range(len(data_order)):\n",
    "        if (str(Day) == str(data_order[\"Dayname\"][i])):\n",
    "            hour.append(data_order[\"order_hour_of_day\"][i])\n",
    "            req.append(data_order[\"order_id\"][i])\n",
    "    \n",
    "    df = pd.DataFrame({'Hour':hour,'Request':req})\n",
    "    info = df.groupby(\"Hour\")[\"Request\"].count()\n",
    "    #plt.plot(info.index.values,info)\n",
    "    #plt.scatter(info.index.values,info,stroke_width = 1)\n",
    "    plt.plot(info.index.values,info,'-o')\n",
    "    plt.xlabel(\"Hour of the  Day\",size = 12)\n",
    "    plt.ylabel(\"Number of Orders\",size = 12)\n",
    "    plt.title(\"Orders received each hour by Instacart\",size = 15)\n",
    "    plt.xticks(size = 12)\n",
    "    plt.yticks(size = 12)\n",
    "    plt.show()"
   ]
  },
  {
   "cell_type": "code",
   "execution_count": 9,
   "metadata": {},
   "outputs": [],
   "source": [
    "#plt.plot(np.arange(0,11),np.arange(11,22),'-o')\n",
    "#plt.xlabel(\"Hour of the  Day\",size = 12)\n",
    "#plt.ylabel(\"Number of Orders\",size = 12)\n",
    "#plt.title(\"Orders received each hour by Instacart\",size = 15)\n",
    "#plt.xticks(size = 12)\n",
    "#plt.yticks(size = 12)\n",
    "#plt.show()"
   ]
  },
  {
   "cell_type": "code",
   "execution_count": 10,
   "metadata": {},
   "outputs": [],
   "source": [
    "\n",
    "#data[\"Department Id\"]"
   ]
  },
  {
   "cell_type": "code",
   "execution_count": 11,
   "metadata": {},
   "outputs": [],
   "source": [
    "#data_order"
   ]
  },
  {
   "cell_type": "code",
   "execution_count": 12,
   "metadata": {},
   "outputs": [],
   "source": [
    "# @ipywidgets.interact(Department = dept)\n",
    "# def makewordcloud(Department):\n",
    "#     aisles = []\n",
    "#     deptid = []\n",
    "#     for i in range(len(data)):\n",
    "#         if(str(Department) == str(data[\"Department Name\"][i])):\n",
    "#             aisles.append(data[\"Aisle_Name\"][i])\n",
    "#             deptid.append(data[\"Department Id\"][i])\n",
    "            \n",
    "#     df = pd.DataFrame({'Aisle':aisles,'DId':deptid})\n",
    "#     info = df.groupby(\"Aisle\")[\"DId\"].count()\n",
    "#     #new_aisles=(\" \").join(aisles)\n",
    "#     xsc = bqplot.OrdinalScale()\n",
    "#     ysc = bqplot.LinearScale()\n",
    "    \n",
    "#     xax = bqplot.Axis(scale = xsc, label='Aisles')\n",
    "#     yax = bqplot.Axis(scale = ysc, label='Number of Orders', orientation = 'vertical')\n",
    "    \n",
    "#     deftool = bqplot.Tooltip(fields = [\"Aisle\"],labels = [\"Aisles Name\"])\n",
    "#     barp = bqplot.Bars(x = info.index.values,y = [info],scales={'x':xax, 'y':yax},tooltip = deftool)\n",
    "    \n",
    "\n",
    "#     fig = bqplot.Figure(marks = [barp], axes = [xax, yax])\n",
    "#     fig\n",
    "\n",
    "# #myLabel = ipywidgets.Label()\n",
    "#     #masker = np.array(Image.open( \"instacart.png\"))\n",
    "\n",
    "#     #wc = WordCloud(background_color = \"white\").generate(new_aisles)\n",
    "#     #plt.margins(x=0, y=0)\n",
    "\n",
    "#     # Display the generated image:\n",
    "#     #plt.imshow(wc, interpolation='bilinear')\n",
    "#     #plt.axis(\"off\")\n",
    "#     #plt.figure( figsize=(10,8) )\n",
    "#     #plt.imshow(wc)\n",
    "#     #plt.show()\n",
    "    "
   ]
  },
  {
   "cell_type": "code",
   "execution_count": 13,
   "metadata": {},
   "outputs": [],
   "source": [
    "# aisles = []\n",
    "# deptid = []\n",
    "# for i in range(len(data)):\n",
    "#     if(str(\"dairy eggs\") == str(data[\"Department Name\"][i])):\n",
    "#         aisles.append(data[\"Aisle_Name\"][i])\n",
    "#         deptid.append(data[\"Department Id\"][i])\n",
    "            \n",
    "# df = pd.DataFrame({'Aisle':aisles,'DId':deptid})\n",
    "# info = df.groupby(\"Aisle\")[\"DId\"].count()\n",
    "#     #new_aisles=(\" \").join(aisles)\n",
    "#     #xsc = bqplot.OrdinalScale()\n",
    "#     #ysc = bqplot.LinearScale()\n",
    "    \n",
    "#     #xax = bqplot.Axis(scale = xsc, label='Day Name')\n",
    "#     #yax = bqplot.Axis(scale = ysc, label='Number of Orders', orientation = 'vertical')\n",
    "    \n",
    "#     #deftool = bqplot.Tooltip(fields = [\"Aisle\"],labels = [\"Aisles Name\"])\n",
    "#     #barp = bqplot.Bars(x = info.index.values,y = [info],scales={'x':xax, 'y':yax},tooltip = deftool)\n",
    "    \n",
    "\n",
    "#     #fig = bqplot.Figure(marks = [barp], axes = [xax, yax])\n",
    "#     #fig\n",
    "    \n"
   ]
  },
  {
   "cell_type": "code",
   "execution_count": 14,
   "metadata": {},
   "outputs": [],
   "source": [
    "# @ipywidgets.interact(Department = dept)\n",
    "# def makewordcloud(Department):\n",
    "#     aisles = []\n",
    "#     deptid = []\n",
    "#     for i in range(len(data)):\n",
    "#         if(str(Department) == str(data[\"Department Name\"][i])):\n",
    "#             aisles.append(data[\"Aisle_Name\"][i])\n",
    "#             deptid.append(data[\"Department Id\"][i])\n",
    "            \n",
    "#     df = pd.DataFrame({'Aisle':aisles,'DId':deptid})\n",
    "#     info = df.groupby(\"Aisle\")[\"DId\"].count()\n",
    "#     plt.bar\n",
    "    \n",
    "#     #xsc = bqplot.OrdinalScale()\n",
    "#     #ysc = bqplot.LinearScale()\n",
    "    \n",
    "#     #xax = bqplot.Axis(scale = xsc, label='Day Name')\n",
    "#     #yax = bqplot.Axis(scale = ysc, label='Number of Orders', orientation = 'vertical')\n",
    "    \n",
    "#     #deftool = bqplot.Tooltip(fields = [\"Aisle\"],labels = [\"Aisles Name\"])\n",
    "#     #barp = bqplot.Bars(x = np.arange(0,len(info)),y = [info],scales={'x':xax, 'y':yax},interactions = {'click': 'select'},\n",
    "#                         #anchor_style = {'fill':'red'})\n",
    "#     #mylabel  = ipywidgets.Label()\n",
    "    \n",
    "#     #def get_data_value(change):\n",
    "#         #i = change['owner'].selected[0]\n",
    "#         #mask = (d.values == dnames[i])\n",
    "#         #myLabel.value = str(i)\n",
    "    \n",
    "\n",
    "#     #fig = bqplot.Figure(marks = [barp], axes = [xax, yax])\n",
    "#     #ipywidgets.VBox([mylabel,ipywidgets.HBox([fig])])"
   ]
  },
  {
   "cell_type": "code",
   "execution_count": 15,
   "metadata": {},
   "outputs": [],
   "source": [
    "#info\n"
   ]
  },
  {
   "cell_type": "code",
   "execution_count": 16,
   "metadata": {},
   "outputs": [],
   "source": [
    "# #plt.bar(np.arange(0,len(info)),info,interactions = {'click': 'select'},anchor_style = {'fill':'red'})\n",
    "# xsc = bqplot.OrdinalScale()\n",
    "# ysc = bqplot.LinearScale()\n",
    "    \n",
    "# xax = bqplot.Axis(scale = xsc, label='DayName')\n",
    "# yax = bqplot.Axis(scale = ysc, label='Number of Orders', orientation = 'vertical')\n",
    "    \n",
    "#     #deftool = bqplot.Tooltip(fields = [\"Aisle\"],labels = [\"Aisles Name\"])\n",
    "# barp = bqplot.Bars(x = np.arange(0,len(info)),y = [info],scales={'x':xax, 'y':yax},interactions = {'click': 'select'},\n",
    "#                    anchor_style = {'fill':'red'})\n",
    "# fig = bqplot.Figure(marks = [barp], axes = [xax, yax])\n",
    "# fig\n"
   ]
  },
  {
   "cell_type": "code",
   "execution_count": 18,
   "metadata": {},
   "outputs": [
    {
     "data": {
      "application/vnd.jupyter.widget-view+json": {
       "model_id": "4d1ed63293274c43bc07e936d28c17e2",
       "version_major": 2,
       "version_minor": 0
      },
      "text/plain": [
       "aW50ZXJhY3RpdmUoY2hpbGRyZW49KERyb3Bkb3duKGRlc2NyaXB0aW9uPXUnRGVwYXJ0bWVudCcsIG9wdGlvbnM9KCdkYWlyeSBlZ2dzJywgJ3Byb2R1Y2UnLCAncGFudHJ5JywgJ21lYXQgc2XigKY=\n"
      ]
     },
     "metadata": {},
     "output_type": "display_data"
    }
   ],
   "source": [
    "@ipywidgets.interact(Department = dept)\n",
    "def makeplot(Department):\n",
    "    aisles = []\n",
    "    deptid = []\n",
    "    for i in range(len(data)):\n",
    "        if(str(Department) == str(data[\"Department Name\"][i])):\n",
    "            aisles.append(data[\"Aisle_Name\"][i])\n",
    "            deptid.append(data[\"Department Id\"][i])\n",
    "            \n",
    "    df = pd.DataFrame({'Aisle':aisles,'DId':deptid})\n",
    "    info = df.groupby(\"Aisle\")[\"DId\"].count()\n",
    "\n",
    "    x_sc = bqplot.OrdinalScale()\n",
    "    y_sc = bqplot.LinearScale()\n",
    "    x_ax = bqplot.Axis(scale = x_sc,orientation = 'vertical')\n",
    "    y_ax = bqplot.Axis(scale = y_sc, label='Number of Orders', orientation = 'horizontal')\n",
    "\n",
    "    bars = bqplot.Bars(x = info.index.values,\n",
    "                   y = [info],\n",
    "                   scales = {'y': y_sc, 'x': x_sc},\n",
    "                   interactions = {'click': 'select'},\n",
    "                   orientation = 'horizontal',\n",
    "                   anchor_style = {'fill':'red'},\n",
    "                   selected_style = {'opacity': 1.0},\n",
    "                   unselected_style = {'opacity': 0.5})\n",
    "    # construct a fig\n",
    "    fig = bqplot.Figure(marks = [bars], axes = [x_ax, y_ax],fig_margin={'bottom': 60, 'top': 60, 'left': 200, 'right': 60})\n",
    "    fig\n",
    "    #display(fig)\n",
    "    \n",
    "    #out = ipywidgets.Label()\n",
    "    #def get_data_value(change):\n",
    "        #self.i = change['owner'].selected[0]\n",
    "        #mask = (d.values == dnames[i])\n",
    "        #self.mylabel = str(\"Aisle Name\")+str(info.index.value[self.i])+str(\", \")+str(\"Number of requets\")+str(info[self.i])\n",
    "        #return self.mylabel\n",
    "    #out = bars.observe(get_data_value, 'selected')\n",
    "    \n",
    "    #ipywidgets.VBox([out,ipywidgets.HBox([fig])])\n"
   ]
  },
  {
   "cell_type": "code",
   "execution_count": null,
   "metadata": {},
   "outputs": [],
   "source": [
    "#import nbinteract as nbi\n",
    "#nbi.publish('DevanshiBhatt/for_final_project/master','Part3Harsh.ipynb')\n"
   ]
  },
  {
   "cell_type": "code",
   "execution_count": null,
   "metadata": {},
   "outputs": [],
   "source": [
    "#!jupyter nbconvert Part3Harsh.ipynb --to html\n"
   ]
  },
  {
   "cell_type": "code",
   "execution_count": null,
   "metadata": {},
   "outputs": [],
   "source": [
    "#!nbinteract Part3Harsh.ipynb -s DevanshiBhatt/for_final_project"
   ]
  },
  {
   "cell_type": "code",
   "execution_count": null,
   "metadata": {},
   "outputs": [],
   "source": [
    "#!nbinteract Part3Harsh.ipynb"
   ]
  },
  {
   "cell_type": "code",
   "execution_count": null,
   "metadata": {},
   "outputs": [],
   "source": []
  }
 ],
 "metadata": {
  "kernelspec": {
   "display_name": "Python 3",
   "language": "python",
   "name": "python3"
  },
  "language_info": {
   "codemirror_mode": {
    "name": "ipython",
    "version": 2
   },
   "file_extension": ".py",
   "mimetype": "text/x-python",
   "name": "python",
   "nbconvert_exporter": "python",
   "pygments_lexer": "ipython2",
   "version": "2.7.15"
  }
 },
 "nbformat": 4,
 "nbformat_minor": 2
}
