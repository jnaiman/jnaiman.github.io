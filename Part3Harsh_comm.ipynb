{
 "cells": [
  {
   "cell_type": "code",
   "execution_count": 7,
   "metadata": {},
   "outputs": [],
   "source": [
    "#!pip install wordcloud\n",
    "\n",
    "import numpy as np\n",
    "import pandas as pd\n",
    "import matplotlib.pyplot as plt\n",
    "from PIL import Image\n",
    "from wordcloud import WordCloud, STOPWORDS, ImageColorGenerator\n",
    "import ipywidgets\n",
    "import bqplot\n",
    "##%matplotlib inline"
   ]
  },
  {
   "cell_type": "code",
   "execution_count": 8,
   "metadata": {},
   "outputs": [],
   "source": [
    "data = pd.read_csv(\"order_products__prior.csv\")"
   ]
  },
  {
   "cell_type": "code",
   "execution_count": 9,
   "metadata": {},
   "outputs": [],
   "source": [
    "dept = data[\"Department Name\"].unique()"
   ]
  },
  {
   "cell_type": "code",
   "execution_count": 12,
   "metadata": {},
   "outputs": [],
   "source": [
    "data_order = pd.read_csv(\"orders.csv\")\n",
    "#data_order"
   ]
  },
  {
   "cell_type": "code",
   "execution_count": 13,
   "metadata": {},
   "outputs": [
    {
     "data": {
      "text/plain": [
       "array(['Tuesday', 'Wednesday', 'Thursday', 'Monday', 'Friday', 'Sunday',\n",
       "       'Saturday'], dtype=object)"
      ]
     },
     "execution_count": 13,
     "metadata": {},
     "output_type": "execute_result"
    }
   ],
   "source": [
    "dayname = data_order[\"Dayname\"].unique()"
   ]
  },
  {
   "cell_type": "code",
   "execution_count": 6,
   "metadata": {},
   "outputs": [
    {
     "data": {
      "application/vnd.jupyter.widget-view+json": {
       "model_id": "7625268d4f65400b8a3178bb07def43f",
       "version_major": 2,
       "version_minor": 0
      },
      "text/plain": [
       "aW50ZXJhY3RpdmUoY2hpbGRyZW49KERyb3Bkb3duKGRlc2NyaXB0aW9uPXUnRGF5Jywgb3B0aW9ucz0oJ1R1ZXNkYXknLCAnV2VkbmVzZGF5JywgJ1RodXJzZGF5JywgJ01vbmRheScsICdGcmnigKY=\n"
      ]
     },
     "metadata": {},
     "output_type": "display_data"
    }
   ],
   "source": [
    "\n",
    "@ipywidgets.interact(Day = dayname)\n",
    "def makelineplot(Day):\n",
    "    hour = []\n",
    "    req = []\n",
    "    mask = str(Day) == data_order[\"Dayname\"].astype('str')\n",
    "\n",
    "    #for i in range(len(data_order)):\n",
    "        #if (str(Day) == str(data_order[\"Dayname\"][i])):\n",
    "        #    hour.append(data_order[\"order_hour_of_day\"][i])\n",
    "        #    req.append(data_order[\"order_id\"][i])\n",
    "    \n",
    "    \n",
    "    df = pd.DataFrame({'Hour':hour,'Request':req})\n",
    "    info = df.groupby(\"Hour\")[\"Request\"].count()\n",
    "    #plt.plot(info.index.values,info)\n",
    "    #plt.scatter(info.index.values,info,stroke_width = 1)\n",
    "    plt.plot(info.index.values,info,'-o')\n",
    "    plt.xlabel(\"Hour of the  Day\",size = 12)\n",
    "    plt.ylabel(\"Number of Orders\",size = 12)\n",
    "    plt.title(\"Orders received each hour by Instacart\",size = 15)\n",
    "    plt.xticks(size = 12)\n",
    "    plt.yticks(size = 12)\n",
    "    plt.show()"
   ]
  },
  {
   "cell_type": "code",
   "execution_count": null,
   "metadata": {},
   "outputs": [],
   "source": []
  }
 ],
 "metadata": {
  "kernelspec": {
   "display_name": "Python 3",
   "language": "python",
   "name": "python3"
  },
  "language_info": {
   "codemirror_mode": {
    "name": "ipython",
    "version": 2
   },
   "file_extension": ".py",
   "mimetype": "text/x-python",
   "name": "python",
   "nbconvert_exporter": "python",
   "pygments_lexer": "ipython2",
   "version": "2.7.15"
  }
 },
 "nbformat": 4,
 "nbformat_minor": 2
}
